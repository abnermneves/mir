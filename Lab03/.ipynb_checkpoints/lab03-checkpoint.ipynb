{
 "cells": [
  {
   "cell_type": "markdown",
   "metadata": {},
   "source": [
    "# Transformada de Fourier\n",
    "\n",
    "**Objetivos**\n",
    "1. Implementar a *fast fourier transform*\n",
    "\n",
    "**Resultado Esperado**\n",
    "1. Entender qual é a matriz base do processamento musical"
   ]
  },
  {
   "cell_type": "code",
   "execution_count": null,
   "metadata": {},
   "outputs": [],
   "source": [
    "from numba import jit\n",
    "\n",
    "import librosa\n",
    "import librosa.display\n",
    "\n",
    "import IPython.display as ipd\n",
    "\n",
    "import matplotlib.pyplot as plt\n",
    "import matplotlib.ticker as ticker\n",
    "\n",
    "import numpy as np\n",
    "import pandas as pd\n",
    "\n",
    "plt.rcParams['axes.labelsize']  = 16\n",
    "plt.rcParams['axes.titlesize']  = 16\n",
    "plt.rcParams['legend.fontsize'] = 16\n",
    "plt.rcParams['xtick.labelsize'] = 16\n",
    "plt.rcParams['ytick.labelsize'] = 16\n",
    "plt.rcParams['lines.linewidth'] = 2\n",
    "\n",
    "plt.ion()"
   ]
  },
  {
   "cell_type": "markdown",
   "metadata": {},
   "source": [
    "## Introdução\n",
    "\n",
    "Como vimos em sala de aula, a Transformada de Fourier é o algoritmo base para realizar tarefas de Recuperação de Informação Musical. Durante as aulas, vimos três versões da transformada:\n",
    "\n",
    "1. A transformada contínua\n",
    "1. A transformada discreta\n",
    "1. A transformada com janelas (ou *short time fourier transform (STFT)*)\n",
    "\n",
    "Resumindo o assunto em texto, os sinais de áudio podem ser representados misturas complexas que consistem em uma infinidade de diferentes componentes de som. Tais componentes podem ser encontradas fazendo uso da transformada de Fourier. A mesma mapeia um sinal dependente do tempo para um espectro de frequências que revelam as frequências que das quais o áudio é composto.\n",
    "\n",
    "Em termos simples, um sinal e sua Transformada de Fourier são dois lados da mesma moeda. Por um lado, o sinal exibe as informações de tempo e esconde o informações sobre frequências. Por outro lado, a transformação de Fourier revela informações sobre frequências e oculta as informações de tempo. Para obter de volta as informações de tempo ocultas, Dennis Gabor apresentou no ano de 1946, a transformada de Fourier STFT. "
   ]
  },
  {
   "cell_type": "markdown",
   "metadata": {},
   "source": [
    "## Transformada Discreta\n",
    "\n",
    "A transformada de Fourier é definida como:\n",
    "\n",
    "\\begin{align}\n",
    "X(k) = \\sum_{n=0}^{N-1} e^{-2 \\pi i n k / N} x(n) \\\\\n",
    "x(n) = \\frac{1}{N}\\sum_{k=0}^{N-1} e^{2 \\pi i n k / N} X(k)\n",
    "\\end{align}\n",
    "\n",
    "$X(k)$ é a importância de uma frequência no índice $k$. $x(n)$ é o valor do sinal na posição $n$. Como vimos em sala de aula, a mesma pode ser escrita de forma matricial. Para tal, precisamos definir os vetores: $\\mathbf{X}[k] = X(k)$ e $\\mathbf{x}[n] = x(n)$. Após isto, podemos definir a matriz:\n",
    "\n",
    "\\begin{align}\n",
    "{\\displaystyle \\text{DFT}_N ={\\begin{pmatrix}1& 1&\\cdots &1\\\\1&\\omega^{11}&\\cdots &\\omega^{2(N-1)}\\\\\\vdots &\\vdots &\\ddots &\\vdots \\\\1&\\omega^{(N-1)1}&\\cdots &\\omega^{(N-1)(N-1)}\\end{pmatrix}}} \n",
    "\\end{align}\n",
    "\n",
    "Onde, \n",
    "\n",
    "\\begin{align}\n",
    "\\omega^{kn} = (e^{-2 \\pi i / N})^{kn} \\\\\n",
    "\\omega^{kn} = e^{-2 \\pi kni / N}\n",
    "\\end{align}\n",
    "\n",
    "Daqui, a transformada é simplesmente o produto: $\\mathbf{X} = \\text{DFT}_N \\cdot \\mathbf{x}$. Com, $\\mathbf{X}[k] = X(k)$ e $\\mathbf{x}[n] = x(n)$.\n",
    "\n",
    "Sua primeira tarefa é implementar uma função Python que retorna a matriz $\\text{DFT}_N$. Lembre-se que definimos $k \\in [0, N)$ e $n \\in [0, N)$. Tanto os coeficientes quanto o número de posições no sinal é o mesmo.\n",
    "\n",
    "Observe como a função tem uma chamada `@jit` no começo. Tal chamada deixa o código mais rápido a ajuda os alunos que desejam gerar a matriz com laços. Dentro de funções dessa forma, a biblioteca *numba* compila o código para *C*. Então, você é limitado a usar comandos python, tipos simples como listas e vetores/matrizes numpy dentro da função."
   ]
  },
  {
   "cell_type": "code",
   "execution_count": null,
   "metadata": {},
   "outputs": [],
   "source": [
    "@jit(nopython=True)\n",
    "def generate_matrix_dft(N):\n",
    "    return M"
   ]
  },
  {
   "cell_type": "markdown",
   "metadata": {},
   "source": [
    "O código abaixo vai plotar os coeficientes reais e imaginários da sua matriz. Observe como existe uma redundância. Aproximadamente uma metade de cada matriz (os blocos na digonais) são iguais. Isto vale tanto para a diagonal principal como a secundária. Tal matriz serve como evidência de que computamos mais coeficientes do que precisamos, algo que foi dito em sala de aula, na prática, apenas K/2 coeficientes seriam necessários. \n",
    "\n",
    "O código abaixo deve gerar uma saída como:\n",
    "\n",
    "![](./files/saida1.png)"
   ]
  },
  {
   "cell_type": "code",
   "execution_count": null,
   "metadata": {},
   "outputs": [],
   "source": [
    "dft_mat = generate_matrix_dft(32)\n",
    "\n",
    "plt.figure(figsize=(12, 4))\n",
    "\n",
    "plt.subplot(1, 2, 1)\n",
    "plt.title('$\\mathrm{Re}(\\mathrm{DFT}_N)$')\n",
    "plt.imshow(np.real(dft_mat), origin='lower', cmap='seismic', aspect='equal')\n",
    "plt.xlabel('Time index $n$')\n",
    "plt.ylabel('Frequency index $k$')\n",
    "plt.colorbar()\n",
    "\n",
    "plt.subplot(1, 2, 2)\n",
    "plt.title('$\\mathrm{Im}(\\mathrm{DFT}_N)$')\n",
    "plt.imshow(np.imag(dft_mat), origin='lower', cmap='seismic', aspect='equal')\n",
    "plt.xlabel('Time index $n$')\n",
    "plt.ylabel('Frequency index $k$')\n",
    "plt.colorbar()\n",
    "plt.tight_layout()"
   ]
  },
  {
   "cell_type": "markdown",
   "metadata": {},
   "source": [
    "Agora escreva uma função para realizar a transformada:"
   ]
  },
  {
   "cell_type": "code",
   "execution_count": null,
   "metadata": {},
   "outputs": [],
   "source": [
    "@jit(nopython=True)\n",
    "def dft(x):\n",
    "    return X"
   ]
  },
  {
   "cell_type": "code",
   "execution_count": null,
   "metadata": {},
   "outputs": [],
   "source": [
    "X = dft(x)"
   ]
  },
  {
   "cell_type": "markdown",
   "metadata": {},
   "source": [
    "Abaixo fazemos uso da sua função. O código abaixo deve gerar uma saída como:\n",
    "\n",
    "![](./files/saida2.png)"
   ]
  },
  {
   "cell_type": "code",
   "execution_count": null,
   "metadata": {},
   "outputs": [],
   "source": [
    "N = 128\n",
    "n = np.arange(N)\n",
    "k = 10\n",
    "x = np.cos(2 * np.pi * (k * n / N) + 2 * (np.random.rand(N) - 0.5)) \n",
    "\n",
    "plt.figure(figsize=(10, 3))\n",
    "\n",
    "plt.subplot(1, 2, 1)\n",
    "plt.title('$x$')\n",
    "plt.plot(x)\n",
    "plt.xlabel('Time (index $n$)')\n",
    "\n",
    "plt.subplot(1, 2, 2)\n",
    "plt.title('$|X|$')\n",
    "plt.plot(np.abs(X))\n",
    "plt.xlabel('Frequency (index $k$)')\n",
    "plt.tight_layout()"
   ]
  },
  {
   "cell_type": "markdown",
   "metadata": {},
   "source": [
    "A seguir, discutimos a famosa transformada rápida de Fourier (Fast Fourier Transform - FFT). O algoritmo FFT foi originalmente descoberto por Gauss em volta de 1805. No ano de 1965, o mesmo foi então redescoberto por Cooley e Tukey em 1965. O algoritmo FFT é baseado na observação de que a aplicação de uma DFT de tamanho par $ N = 2M $ pode ser expressa em termos de aplicação de duas DFTs com metade do tamanho $ M $. O algoritmo explora o fato de que existem relações algébricas entre as entradas $\\omega^{kn} = \\mathrm{exp}(-2 \\pi i / N)^{kn}$ de matrizes DFT.\n",
    "\n",
    "No algoritmo FFT, calcula-se o DFT dos elementos pares e ímpares de $x(n)$\n",
    "\n",
    "\\begin{align}\n",
    "(A(0), \\dots, A (N / 2-1)) & = \\mathrm{DFT}_{N / 2} \\cdot (x (0), x (2), x (4), \\cdots, x (N-2)) \\\\\n",
    "(B(0), \\dots, B (N / 2-1)) & = \\mathrm{DFT}_{N / 2} \\cdot (x (1), x (3), x (5), \\cdots, x (N-1))\n",
    "\\end{align}\n",
    "\n",
    "Com esses dois DFTs de tamanho $N/2$, pode-se calcular o DFT completo de tamanho $N$ por meio de:\n",
    "\n",
    "\\begin{eqnarray}\n",
    "C(k) & = & \\sigma^k \\cdot B(k) \\\\\n",
    "X(k) & = & A(k) + C(k) \\\\\n",
    "X(N / 2 + k) & = & A(k) - C(k) \\\\\n",
    "\\end{eqnarray}\n",
    "\n",
    "para $ k \\in [0: N / 2 - 1] $. Os números $\\sigma^k$ também são chamados de *fatores de torção*. Se $N$ é uma potência de dois, esta ideia pode ser aplicada recusivamente até que se alcance o cálculo de $ \\mathrm {DFT}_{1} $ (o caso $ N = 1 $), que é simplesmente multiplicação por um ( ou seja, apenas retornando o sinal de comprimento $ N = 1 $).\n",
    "\n",
    "\n",
    "Por fim implemente o algoritmo FFT e plote o mesmo resultado do caso anterior. Os comandos python abaixo separam os pares dos ímpares!\n",
    "\n",
    "```python\n",
    "x = np.array([0, 1, 2, 3, 4, 5])\n",
    "x_par = x[::2]\n",
    "x_impar = x[1::2]\n",
    "```"
   ]
  },
  {
   "cell_type": "code",
   "execution_count": null,
   "metadata": {},
   "outputs": [],
   "source": [
    "x = np.array([0, 1, 2, 3, 4, 5])\n",
    "x_par = x[::2]\n",
    "x_impar = x[1::2]\n",
    "\n",
    "print(x_par)\n",
    "print(x_impar)"
   ]
  },
  {
   "cell_type": "code",
   "execution_count": null,
   "metadata": {},
   "outputs": [],
   "source": [
    "@jit(nopython=True)\n",
    "def fft(x):\n",
    "    return X"
   ]
  },
  {
   "cell_type": "markdown",
   "metadata": {},
   "source": [
    "Compare o tempo de execução dos dois com a chamada abaixo:"
   ]
  },
  {
   "cell_type": "code",
   "execution_count": null,
   "metadata": {},
   "outputs": [],
   "source": [
    "import timeit\n",
    "\n",
    "Ns = [2 ** n for n in range(5, 11)]\n",
    "times_dft = []\n",
    "times_fft = []\n",
    "execuctions = 10\n",
    "\n",
    "for N in Ns:\n",
    "    n = np.arange(N)\n",
    "    x = np.sin(2 * np.pi * 5 * n / N )\n",
    "    \n",
    "    time_dft = timeit.timeit(lambda: dft(x), number=execuctions) / execuctions\n",
    "    time_fft = timeit.timeit(lambda: fft(x), number=execuctions) / execuctions\n",
    "    times_dft.append(time_dft)\n",
    "    times_fft.append(time_fft)\n",
    "    \n",
    "plt.figure(figsize=(10, 4))\n",
    "    \n",
    "plt.plot(Ns, times_dft, '-xk', label='DFT')\n",
    "plt.plot(Ns, times_fft, '-xr', label='FFT')\n",
    "plt.xticks(Ns)\n",
    "plt.legend()\n",
    "plt.grid()\n",
    "plt.xlabel('$N$')\n",
    "plt.ylabel('Tempo de execução (seconds)');"
   ]
  },
  {
   "cell_type": "markdown",
   "metadata": {},
   "source": [
    "## Sinal Real com FFT e STFT\n",
    "\n",
    "Agora sua tarefa será aplicar a transformada em um sinal real.\n",
    "\n",
    "<img src=\"./files/song.png\" width=\"66%\" height=\"66%\">\n",
    "\n",
    "O aúdio abaixo toca as notas do piano seguindo a escala cromática. A figura também mostra duas versões do espectograma. Sua resposta final deve parecer com a Fig (b)."
   ]
  },
  {
   "cell_type": "code",
   "execution_count": null,
   "metadata": {},
   "outputs": [],
   "source": [
    "ipd.Audio(filename='./files/Scale_Chromatic_Piano.wav')"
   ]
  },
  {
   "cell_type": "markdown",
   "metadata": {},
   "source": [
    "Aplique a transformada de Fourier rápida no mesmo. Para tal, você pode fazer uso do pacote já pronto em python:"
   ]
  },
  {
   "cell_type": "code",
   "execution_count": null,
   "metadata": {},
   "outputs": [],
   "source": [
    "from scipy.fft import fft"
   ]
  },
  {
   "cell_type": "code",
   "execution_count": null,
   "metadata": {},
   "outputs": [],
   "source": [
    "song, F_s = librosa.load('./files/Scale_Chromatic_Piano.wav')\n",
    "print(len(song))\n",
    "print(F_s)"
   ]
  },
  {
   "cell_type": "markdown",
   "metadata": {},
   "source": [
    "### FFT\n",
    "\n",
    "O código abaixo carrega a música e indica sua taxa de frequência. Agora, sabendo dos dados abaixo, aplique a Transformada de Fourier usando seu código ou o scipy. Recomendo fazer uso do scipy por corretude! Após isto, responda.\n",
    "\n",
    "**Questão**: Quais são as três frequência mais importante no sinal? Você deve converter entre índice e frequência aqui. Veja a equação nos slides. Além do mais, você deve descartar metade da saída do código do FFT, é redundante!"
   ]
  },
  {
   "cell_type": "markdown",
   "metadata": {},
   "source": [
    "> Resposta Aqui. Use Latex"
   ]
  },
  {
   "cell_type": "markdown",
   "metadata": {},
   "source": [
    "### STFT\n",
    "\n",
    "Agora vamos fazer uso do código de STFT já pronto em Python. Leia a documentação do mesmo, observe como o mesmo recebe dois argumentos importantes (abaixo os nomes e valores padrão):\n",
    "\n",
    "1. window='hann'\n",
    "1. nperseg=256\n",
    "\n",
    "O primeiro é o tipo de janela. O segundo é o número de elementos por janela."
   ]
  },
  {
   "cell_type": "code",
   "execution_count": null,
   "metadata": {},
   "outputs": [],
   "source": [
    "from scipy.signal import stft"
   ]
  },
  {
   "cell_type": "markdown",
   "metadata": {},
   "source": [
    "Observe como no plot eu coloquei o np.log para deixar as importâncias mais claras!"
   ]
  },
  {
   "cell_type": "code",
   "execution_count": null,
   "metadata": {},
   "outputs": [],
   "source": [
    "f, t, Zxx = stft(song, nperseg=500)\n",
    "\n",
    "plt.figure(figsize=(20, 10))\n",
    "\n",
    "plt.pcolormesh(t, f, np.log(np.abs(Zxx)), shading='gouraud')\n",
    "plt.title('STFT Magnitude')\n",
    "plt.ylabel('Frequency [Hz]')\n",
    "plt.xlabel('Time [sec]')\n",
    "plt.show()"
   ]
  },
  {
   "cell_type": "markdown",
   "metadata": {},
   "source": [
    "**Questão**: Para cada segundo da música, qual a frequência mais importante? Você pode fazer um código para responder esta questão."
   ]
  }
 ],
 "metadata": {
  "kernelspec": {
   "display_name": "Python 3",
   "language": "python",
   "name": "python3"
  },
  "language_info": {
   "codemirror_mode": {
    "name": "ipython",
    "version": 3
   },
   "file_extension": ".py",
   "mimetype": "text/x-python",
   "name": "python",
   "nbconvert_exporter": "python",
   "pygments_lexer": "ipython3",
   "version": "3.8.2"
  }
 },
 "nbformat": 4,
 "nbformat_minor": 4
}
